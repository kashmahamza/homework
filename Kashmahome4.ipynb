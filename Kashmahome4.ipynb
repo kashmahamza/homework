{
 "cells": [
  {
   "cell_type": "markdown",
   "metadata": {},
   "source": []
  },
  {
   "cell_type": "markdown",
   "metadata": {},
   "source": [
    "1. *Using a Module:* \n",
    "   To use a module in Python, you need to import it using the import keyword followed by the module name.\n",
    "\n",
    "2. import math\n",
    "   # Example usage\n",
    "   print(math.sqrt(16))  # Output: 4.0\n",
    "\n",
    "3. *Benefits of Exception Handling:* \n",
    "   A benefit of exception handling is to gracefully handle errors or unexpected scenarios in your code, preventing it from crashing.\n",
    "\n",
    "4. *Components of Python Exception Handling:*\n",
    "   The four components used for Python Exception Handling are try, except, else, and finally\n",
    "\n",
    "5. *NumPy Arrays & Python Data Type:* \n",
    "   NumPy arrays are like Python lists, but with added functionalities for numerical operations.\n",
    "\n",
    "6. *Main Benefits of Using NumPy Arrays:*\n",
    "   One of the main benefits of using NumPy arrays is their ability to perform fast numerical computations on large datasets efficiently.\n",
    "\n",
    "7. *Main Requirement About Type of NumPy Arrays:*\n",
    "   The main requirement about the type of NumPy arrays is that they should have a uniform data type for all elements.\n",
    "\n",
    "8. *Uses of NumPy:* \n",
    "   Two uses of NumPy are for mathematical operations and data manipulation.\n",
    "\n",
    "9. *Other Libraries with NumPy:* \n",
    "   One of the other libraries we'll use with NumPy is pandas.\n",
    "\n",
    "10. *Shape of NumPy Arrays:* \n",
    "    The shape of NumPy arrays refers to the dimensions and sizes of the array.\n",
    "\n",
    "11. *Tensor:* \n",
    "    A tensor is a multi-dimensional array used in deep learning and machine learning.\n",
    "\n",
    "12. *Using NumPy for Data Analysis vs Python List:* \n",
    "    NumPy is better for data analysis than using a Python list because of its speed, efficiency, and built-in functions for array operations.\n",
    "\n",
    "13. *Creating an Empty NumPy Array:* \n",
    "    When creating an \"empty\" array, the elements in the array are uninitialized and can contain random values.\n",
    "\n",
    "   \n",
    "   "
   ]
  },
  {
   "cell_type": "markdown",
   "metadata": {},
   "source": [
    "*Flow Control Methods:*"
   ]
  },
  {
   "cell_type": "code",
   "execution_count": 4,
   "metadata": {},
   "outputs": [
    {
     "name": "stdout",
     "output_type": "stream",
     "text": [
      "Renting a car is more affordable\n"
     ]
    }
   ],
   "source": [
    "1.\n",
    "age = 26\n",
    "if age >= 25:\n",
    "    print(\"Renting a car is more affordable\")\n",
    "else:\n",
    "    print(\"Renting a car is very expensive\")"
   ]
  },
  {
   "cell_type": "code",
   "execution_count": 5,
   "metadata": {},
   "outputs": [
    {
     "name": "stdout",
     "output_type": "stream",
     "text": [
      "Renting a car is very expensive\n"
     ]
    }
   ],
   "source": [
    "2.\n",
    "age = 20\n",
    "if age >= 25:\n",
    "    print(\"Renting a car is more affordable\")\n",
    "elif age >= 18:\n",
    "    print(\"Renting a car is very expensive\")\n",
    "else:\n",
    "    print(\"You cannot legally rent a car\")"
   ]
  },
  {
   "cell_type": "code",
   "execution_count": 30,
   "metadata": {},
   "outputs": [
    {
     "name": "stdout",
     "output_type": "stream",
     "text": [
      "e\n",
      "u\n",
      "i\n",
      "o\n",
      "o\n",
      "u\n",
      "o\n",
      "e\n",
      "e\n",
      "a\n",
      "o\n",
      "1\n"
     ]
    }
   ],
   "source": [
    "3. \n",
    "text = \"The quick brown fox jumps over the lazy dog\"\n",
    "vowels = ['a', 'e', 'i', 'o', 'u']\n",
    "count = 2\n",
    "for char in text.lower():\n",
    "    count = 1\n",
    "    if char in vowels:\n",
    "     print(char)\n",
    "print(count)"
   ]
  },
  {
   "cell_type": "code",
   "execution_count": 27,
   "metadata": {},
   "outputs": [
    {
     "ename": "IndentationError",
     "evalue": "expected an indented block after 'for' statement on line 6 (2197935804.py, line 7)",
     "output_type": "error",
     "traceback": [
      "\u001b[1;36m  Cell \u001b[1;32mIn[27], line 7\u001b[1;36m\u001b[0m\n\u001b[1;33m    print(list, color)\u001b[0m\n\u001b[1;37m    ^\u001b[0m\n\u001b[1;31mIndentationError\u001b[0m\u001b[1;31m:\u001b[0m expected an indented block after 'for' statement on line 6\n"
     ]
    }
   ],
   "source": [
    " 4.\n",
    "couture = [\"trousers\", \"blouse\", \"bandana\", \"cumber band\", \"blazer\", \"vest\", \"french beret\", \"scarf\", \"stole\"]\n",
    "panettone = (\"cerise\", \"fuchsia\", \"aqua\", \"maple\", \"auburn\", \"burnt sienna\", \"gunmetal blue\", \"Dark Sapphire\")\n",
    "\n",
    "for list in couture:\n",
    " for color in panettone:\n",
    "    print(list, color)"
   ]
  },
  {
   "cell_type": "code",
   "execution_count": 1,
   "metadata": {},
   "outputs": [
    {
     "name": "stdout",
     "output_type": "stream",
     "text": [
      "Sum of numbers from 1 to 100:\n"
     ]
    }
   ],
   "source": [
    " 5.\n",
    "total_sum = 0\n",
    "for i in range(1, 101):\n",
    "    total_sum += i\n",
    "print(\"Sum of numbers from 1 to 100:\")"
   ]
  },
  {
   "cell_type": "code",
   "execution_count": 26,
   "metadata": {},
   "outputs": [
    {
     "name": "stdout",
     "output_type": "stream",
     "text": [
      "banana\n"
     ]
    }
   ],
   "source": [
    " 6.\n",
    "fruits = [\"apple\", \"banana\", \"cherry\",\"orange\",\"kiwi\",\"melon\",\"mango\"]\n",
    "fruits = [\"apple\", \"banana\", \"cherry\"]\n",
    "print(fruits[1]) "
   ]
  },
  {
   "cell_type": "code",
   "execution_count": 4,
   "metadata": {},
   "outputs": [
    {
     "name": "stdout",
     "output_type": "stream",
     "text": [
      "['kiwi', 'banana', 'cherry', 'orange', 'kiwi', 'melon', 'mango']\n"
     ]
    }
   ],
   "source": [
    " 7.\n",
    "fruits = [\"apple\", \"banana\", \"cherry\",\"orange\",\"kiwi\",\"melon\",\"mango\"]\n",
    "fruits[0] = \"kiwi\"\n",
    "print(fruits)  \n"
   ]
  },
  {
   "cell_type": "code",
   "execution_count": 5,
   "metadata": {},
   "outputs": [
    {
     "name": "stdout",
     "output_type": "stream",
     "text": [
      "['apple', 'banana', 'cherry', 'orange', 'kiwi', 'melon', 'mango', 'orange']\n"
     ]
    }
   ],
   "source": [
    " 8.\n",
    "fruits = [\"apple\", \"banana\", \"cherry\",\"orange\",\"kiwi\",\"melon\",\"mango\"]\n",
    "fruits.append(\"orange\")\n",
    "print(fruits) \n"
   ]
  },
  {
   "cell_type": "code",
   "execution_count": 6,
   "metadata": {},
   "outputs": [
    {
     "name": "stdout",
     "output_type": "stream",
     "text": [
      "['apple', 'lemon', 'banana', 'cherry', 'orange', 'kiwi', 'melon', 'mango']\n"
     ]
    }
   ],
   "source": [
    "9.\n",
    "fruits = [\"apple\", \"banana\", \"cherry\",\"orange\",\"kiwi\",\"melon\",\"mango\"]\n",
    "fruits.insert(1, \"lemon\")\n",
    "print(fruits) \n"
   ]
  },
  {
   "cell_type": "code",
   "execution_count": 8,
   "metadata": {},
   "outputs": [
    {
     "name": "stdout",
     "output_type": "stream",
     "text": [
      "['apple', 'cherry', 'orange', 'kiwi', 'melon', 'mango']\n"
     ]
    }
   ],
   "source": [
    "10.\n",
    "fruits = [\"apple\", \"banana\", \"cherry\",\"orange\",\"kiwi\",\"melon\",\"mango\"]\n",
    "fruits.remove(\"banana\")\n",
    "print(fruits)  "
   ]
  },
  {
   "cell_type": "code",
   "execution_count": 9,
   "metadata": {},
   "outputs": [
    {
     "name": "stdout",
     "output_type": "stream",
     "text": [
      "cherry melon\n"
     ]
    }
   ],
   "source": [
    "11.\n",
    "fruits = [\"apple\", \"banana\", \"cherry\",\"orange\",\"kiwi\",\"melon\",\"mango\"]\n",
    "print(fruits[2],fruits[-2])  \n"
   ]
  },
  {
   "cell_type": "code",
   "execution_count": 10,
   "metadata": {},
   "outputs": [
    {
     "name": "stdout",
     "output_type": "stream",
     "text": [
      "['cherry', 'orange', 'kiwi']\n"
     ]
    }
   ],
   "source": [
    "12.\n",
    "fruits = [\"apple\", \"banana\", \"cherry\",\"orange\",\"kiwi\",\"melon\",\"mango\"]\n",
    "print(fruits[2:5]) \n",
    "\n"
   ]
  },
  {
   "cell_type": "code",
   "execution_count": 11,
   "metadata": {},
   "outputs": [
    {
     "name": "stdout",
     "output_type": "stream",
     "text": [
      "7\n"
     ]
    }
   ],
   "source": [
    "13.\n",
    "fruits = [\"apple\", \"banana\", \"cherry\",\"orange\",\"kiwi\",\"melon\",\"mango\"]\n",
    "print(len(fruits))  \n"
   ]
  },
  {
   "cell_type": "code",
   "execution_count": 3,
   "metadata": {},
   "outputs": [
    {
     "name": "stdout",
     "output_type": "stream",
     "text": [
      "['orange', 'melon', 'mango', 'kiwi', 'cherry', 'banana', 'apple']\n"
     ]
    }
   ],
   "source": [
    "14.\n",
    "fruits = [\"apple\", \"banana\", \"cherry\",\"orange\",\"kiwi\",\"melon\",\"mango\"]\n",
    "fruits.sort(reverse=True)\n",
    "print(fruits) "
   ]
  },
  {
   "cell_type": "code",
   "execution_count": 13,
   "metadata": {},
   "outputs": [],
   "source": [
    "\n",
    "import datetime\n",
    "\n",
    "# Task 15: Get current date and time and extract full month name\n",
    "current_datetime = datetime.datetime.now()\n",
    "full_month_name = current_datetime.strftime(\"%B\")"
   ]
  },
  {
   "cell_type": "code",
   "execution_count": 1,
   "metadata": {},
   "outputs": [
    {
     "name": "stdout",
     "output_type": "stream",
     "text": [
      "Hi Kashma! Happy Wednesday!\n",
      "Hi Parya! Happy Sunday!\n"
     ]
    }
   ],
   "source": [
    "# Task 16: Simple function for greeting with default day name\n",
    "def greet_user(first_name, day_name=\"Sunday\"):\n",
    "    print(f\"Hi {first_name}! Happy {day_name}!\")\n",
    "\n",
    "greet_user(\"Kashma\", \"Wednesday\")\n",
    "\n",
    "greet_user(\"Parya\")"
   ]
  },
  {
   "cell_type": "code",
   "execution_count": 1,
   "metadata": {},
   "outputs": [
    {
     "name": "stdout",
     "output_type": "stream",
     "text": [
      "Error: division by zero\n",
      "Exception handling completed\n"
     ]
    },
    {
     "ename": "NameError",
     "evalue": "name 'full_month_name' is not defined",
     "output_type": "error",
     "traceback": [
      "\u001b[1;31m---------------------------------------------------------------------------\u001b[0m",
      "\u001b[1;31mNameError\u001b[0m                                 Traceback (most recent call last)",
      "Cell \u001b[1;32mIn[1], line 11\u001b[0m\n\u001b[0;32m      8\u001b[0m \u001b[38;5;28;01mfinally\u001b[39;00m:\n\u001b[0;32m      9\u001b[0m     \u001b[38;5;28mprint\u001b[39m(\u001b[38;5;124m\"\u001b[39m\u001b[38;5;124mException handling completed\u001b[39m\u001b[38;5;124m\"\u001b[39m)\n\u001b[1;32m---> 11\u001b[0m \u001b[38;5;28mprint\u001b[39m(\u001b[38;5;124m\"\u001b[39m\u001b[38;5;124mCurrent Full Month Name:\u001b[39m\u001b[38;5;124m\"\u001b[39m, \u001b[43mfull_month_name\u001b[49m)\n",
      "\u001b[1;31mNameError\u001b[0m: name 'full_month_name' is not defined"
     ]
    }
   ],
   "source": [
    "# Task 17: Handling a common Python exception error\n",
    "try:\n",
    "    result = 10 / 0  \n",
    "except ZeroDivisionError as e:\n",
    "    print(\"Error:\", e)\n",
    "else:\n",
    "    print(\"Division successful\")\n",
    "finally:\n",
    "    print(\"Exception handling completed\")\n",
    "\n",
    "print(\"Current Full Month Name:\", full_month_name)"
   ]
  }
 ],
 "metadata": {
  "kernelspec": {
   "display_name": "Python 3",
   "language": "python",
   "name": "python3"
  },
  "language_info": {
   "codemirror_mode": {
    "name": "ipython",
    "version": 3
   },
   "file_extension": ".py",
   "mimetype": "text/x-python",
   "name": "python",
   "nbconvert_exporter": "python",
   "pygments_lexer": "ipython3",
   "version": "3.12.3"
  }
 },
 "nbformat": 4,
 "nbformat_minor": 2
}
