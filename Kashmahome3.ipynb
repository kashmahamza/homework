{
 "cells": [
  {
   "cell_type": "markdown",
   "metadata": {},
   "source": [
    "1. What is an algorithm?\n",
    "\n",
    "An algorithm is a step-by-step procedure or formula for solving a problem.\n",
    "\n",
    "2. Variable names may not start with certain characters - name two.\n",
    "\n",
    "- Numbers (e.g., `1variable`)\n",
    "- Special characters (e.g., `@variable`)\n",
    "\n",
    "3. What is a Semantic error?\n",
    "\n",
    "A semantic error occurs when the syntax of the code is correct but the logic is incorrect, causing the program to produce an unintended result.\n",
    "\n",
    "4. What is the #1 rule of coding / debugging?\n",
    "\n",
    "Understand the problem before you start writing code.\n",
    "\n",
    "5. List 5 Python reserved words.**\n",
    "\n",
    "- `extend`\n",
    "- `append`\n",
    "- `if`\n",
    "- `else`\n",
    "- `return`"
   ]
  },
  {
   "cell_type": "code",
   "execution_count": 2,
   "metadata": {},
   "outputs": [
    {
     "name": "stdout",
     "output_type": "stream",
     "text": [
      "Kashma Hamza\n",
      "Rice\n",
      "Data Analytics and Python\n"
     ]
    }
   ],
   "source": [
    "# 6. Multi-line string with name, favorite food, and dream job\n",
    "multi_line_string = \"\"\"Kashma Hamza\n",
    "Rice\n",
    "Data Analytics and Python\"\"\"\n",
    "\n",
    "# Print the multi-line string\n",
    "print(multi_line_string)"
   ]
  },
  {
   "cell_type": "code",
   "execution_count": 1,
   "metadata": {},
   "outputs": [
    {
     "name": "stdout",
     "output_type": "stream",
     "text": [
      "13\n",
      "l\n"
     ]
    }
   ],
   "source": [
    "# 7. Assign 5 different data types to 5 different variables\n",
    "\n",
    "# String\n",
    "str_var = \"Hello, world!\"\n",
    "\n",
    "# Integer\n",
    "int_var = 42\n",
    "\n",
    "# Float\n",
    "float_var = 3.14\n",
    "\n",
    "# Boolean\n",
    "bool_var = True\n",
    "\n",
    "# List\n",
    "list_var = [1, 2, 3, 4, 5]\n",
    "\n",
    "# Print the length of your string\n",
    "print(len(str_var))\n",
    "\n",
    "# Print the index value of the 4th character in your string\n",
    "print(str_var[3])"
   ]
  },
  {
   "cell_type": "code",
   "execution_count": 1,
   "metadata": {},
   "outputs": [
    {
     "name": "stdout",
     "output_type": "stream",
     "text": [
      "ing Data Analytics \n",
      "Learning Data Analytics and Python is great!\n",
      "True\n"
     ]
    }
   ],
   "source": [
    "# 8. Create a new variable called `savvy`, and assign it the string with this phrase\n",
    "savvy = \"Learning Data Analytics and Python is Awesome!\"\n",
    "\n",
    "# Return a range of characters from the beginning of \"ing\" up to before \"and\"\n",
    "substring = savvy[savvy.index('ing'):savvy.index('and')]\n",
    "print(substring)\n",
    "\n",
    "# Replace \"Awesome\" with \"great\"\n",
    "modified_savvy = savvy.replace('Awesome', 'great')\n",
    "print(modified_savvy)\n",
    "\n",
    "# Check if the string contains \"Python\"\n",
    "contains_python = 'Python' in savvy\n",
    "print(contains_python)\n"
   ]
  },
  {
   "cell_type": "code",
   "execution_count": 3,
   "metadata": {},
   "outputs": [
    {
     "name": "stdout",
     "output_type": "stream",
     "text": [
      "Hi my name is Kashma, I am 31 years old and 5.6 feet tall.\n",
      "31.0\n"
     ]
    }
   ],
   "source": [
    "# 9. Create and assign 3 more variables using multi-variable naming method\n",
    "name, age, length = \"Kashma\", 31, 5.6\n",
    "\n",
    "# Format a new string called 'miniBio' using variables in curly brackets\n",
    "miniBio = f\"Hi my name is {name}, I am {age} years old and {length} feet tall.\"\n",
    "print(miniBio)\n",
    "\n",
    "# Cast and print the age variable to a float\n",
    "print(float(age))"
   ]
  },
  {
   "cell_type": "code",
   "execution_count": 10,
   "metadata": {},
   "outputs": [
    {
     "name": "stdout",
     "output_type": "stream",
     "text": [
      "6\n",
      "['inserted item', 3.14, [1, 2, 3]]\n",
      "['apple', 'banana', 'inserted item', 3.14, [1, 2, 3], 'new item', 'inserted item', 3.14, [1, 2, 3]]\n",
      "[3, 7, 10, 14, 21]\n",
      "['inserted item', 3.14, [1, 2, 3], 3, 7, 10, 14, 21]\n",
      "(1, 2, 3, 4, 5, 1, 2, 3, 4, 5, 1, 2, 3, 4, 5)\n",
      "2\n",
      "(1, 2, 3, 4, 5, 1, 2, 3, 4, 5, 1, 2, 3, 4, 5)\n",
      "(2, 4, 1, 3)\n",
      "2 4 1 3\n"
     ]
    }
   ],
   "source": [
    "# 10. Complex Data Types: Create a list of at least 5 elements of mixed data types\n",
    "mixed_list = ['apple', 42, 3.14, [1, 2, 3]]\n",
    "\n",
    "# Replace a part of it with something else\n",
    "mixed_list[1] = 'banana'\n",
    "\n",
    "# Append or insert several more items\n",
    "mixed_list.append(\"new item\")\n",
    "mixed_list.insert(2, \"inserted item\")\n",
    "# Find and print the length of the list\n",
    "print(len(mixed_list))\n",
    "\n",
    "# Slice a sub-section and save it to a different 2nd list\n",
    "sub_list = mixed_list[2:5]\n",
    "print(sub_list)\n",
    "\n",
    "# Extend the original list with the 2nd list\n",
    "mixed_list.extend(sub_list)\n",
    "print(mixed_list)\n",
    "\n",
    "# Create a new list called \"simList\"\n",
    "simList = [10, 14, 3, 7, 21]\n",
    "\n",
    "# Sort and print \"simList\"\n",
    "simList.sort()\n",
    "print(simList)\n",
    "\n",
    "# Copy \"simList\" to another 3rd list\n",
    "copied_list = simList.copy()\n",
    "\n",
    "# Add the 2nd and 3rd list together into a 4th list\n",
    "final_list = sub_list + copied_list\n",
    "print(final_list)\n",
    "\n",
    "# 11. Create a tuple of about 5 elements\n",
    "my_tuple = (1, 2, 3, 4, 5)\n",
    "\n",
    "# Multiply your tuple by 3 and save it to a new 2nd tuple\n",
    "new_tuple = my_tuple * 3\n",
    "print(new_tuple)\n",
    "\n",
    "# Access and print the 12th element\n",
    "print(new_tuple[11])\n",
    "\n",
    "# Sort the 2nd tuple and print it (Note: Tuples cannot be sorted directly)\n",
    "sorted_new_tuple = tuple((new_tuple))\n",
    "print(sorted_new_tuple)\n",
    "\n",
    "# Copy 4 specific elements to a new 3rd tuple\n",
    "third_tuple = (new_tuple[1], new_tuple[3], new_tuple[5], new_tuple[7])\n",
    "print(third_tuple)\n",
    "\n",
    "# Unpack the 3rd tuple into 4 variables and print them\n",
    "a, b, c, d = third_tuple\n",
    "print(a, b, c, d)"
   ]
  },
  {
   "cell_type": "code",
   "execution_count": 7,
   "metadata": {},
   "outputs": [
    {
     "name": "stdout",
     "output_type": "stream",
     "text": [
      "fourth_tuple\n"
     ]
    },
    {
     "ename": "NameError",
     "evalue": "name 'new_tuple' is not defined",
     "output_type": "error",
     "traceback": [
      "\u001b[1;31m---------------------------------------------------------------------------\u001b[0m",
      "\u001b[1;31mNameError\u001b[0m                                 Traceback (most recent call last)",
      "Cell \u001b[1;32mIn[7], line 6\u001b[0m\n\u001b[0;32m      3\u001b[0m \u001b[38;5;28mprint\u001b[39m(\u001b[38;5;124m'\u001b[39m\u001b[38;5;124mfourth_tuple\u001b[39m\u001b[38;5;124m'\u001b[39m)\n\u001b[0;32m      5\u001b[0m \u001b[38;5;66;03m# Add the 2nd and 3rd tuple together in a 5th tuple\u001b[39;00m\n\u001b[1;32m----> 6\u001b[0m fifth_tuple \u001b[38;5;241m=\u001b[39m \u001b[43mnew_tuple\u001b[49m \u001b[38;5;241m+\u001b[39m third_tuple\n\u001b[0;32m      7\u001b[0m \u001b[38;5;28mprint\u001b[39m(\u001b[38;5;124m'\u001b[39m\u001b[38;5;124mfifth_tuple\u001b[39m\u001b[38;5;124m'\u001b[39m)\n",
      "\u001b[1;31mNameError\u001b[0m: name 'new_tuple' is not defined"
     ]
    }
   ],
   "source": [
    "# 11. Create a 4th tuple with a single item 50 and print it\n",
    "fourth_tuple = (50)\n",
    "print('fourth_tuple')\n",
    "\n",
    "# Add the 2nd and 3rd tuple together in a 5th tuple\n",
    "fifth_tuple = new_tuple + third_tuple\n",
    "print('fifth_tuple')"
   ]
  },
  {
   "cell_type": "code",
   "execution_count": 2,
   "metadata": {},
   "outputs": [
    {
     "ename": "SyntaxError",
     "evalue": "invalid syntax (3673498749.py, line 5)",
     "output_type": "error",
     "traceback": [
      "\u001b[1;36m  Cell \u001b[1;32mIn[2], line 5\u001b[1;36m\u001b[0m\n\u001b[1;33m    my_set.(['orange', 'grape'])\u001b[0m\n\u001b[1;37m           ^\u001b[0m\n\u001b[1;31mSyntaxError\u001b[0m\u001b[1;31m:\u001b[0m invalid syntax\n"
     ]
    }
   ],
   "source": [
    "# 12. Create a set of about 3 elements\n",
    "my_set = {'apple', 'banana', 'cherry'}\n",
    "\n",
    "# Add a list of fruits to the above set\n",
    "my_set.(['orange', 'grape'])\n",
    "print(my_set)\n",
    "\n",
    "# Add a car element to your set\n",
    "my_set.add('car')\n",
    "print(my_set)\n",
    "\n",
    "# Create a 2nd set with a few odd items\n",
    "second_set = ['table', 'chair', 'laptop']\n",
    "\n",
    "# Save the union of both sets to a 3rd set\n",
    "third_set = my_set.union(second_set)\n",
    "print(third_set)\n",
    "\n",
    "# Pop an element from the 2nd set, and print the remainder\n",
    "second_set.pop()\n",
    "print(second_set)\n",
    "\n",
    "# Clear the 1st set and print the result\n",
    "my_set.clear()\n",
    "print(my_set)\n",
    "\n",
    "# Discard an element, and remove another element from the 3rd set\n",
    "third_set.discard('table')\n",
    "third_set.remove('chair')\n",
    "print(third_set)\n"
   ]
  },
  {
   "cell_type": "code",
   "execution_count": 1,
   "metadata": {},
   "outputs": [
    {
     "ename": "SyntaxError",
     "evalue": "invalid syntax (3738840616.py, line 31)",
     "output_type": "error",
     "traceback": [
      "\u001b[1;36m  Cell \u001b[1;32mIn[1], line 31\u001b[1;36m\u001b[0m\n\u001b[1;33m    second_dict.(\"courses\")\u001b[0m\n\u001b[1;37m                ^\u001b[0m\n\u001b[1;31mSyntaxError\u001b[0m\u001b[1;31m:\u001b[0m invalid syntax\n"
     ]
    }
   ],
   "source": [
    "# 13. Create a dictionary with at least 5 values of different data types\n",
    "my_dict = {\n",
    "    \"name\": \"Kashma\",\n",
    "    \"age\": 30,\n",
    "    \"is_student\": True,\n",
    "    \"courses\": [\"Math\", \"Science\"],\n",
    "    \"address\": (\"4145 Grasso Ave\", \"City\", \"Country\")}\n",
    "# Print out 1 value\n",
    "print(my_dict[\"name\"])\n",
    "\n",
    "# Replace any one value in your dictionary with your name\n",
    "my_dict[\"address\"] = \"Parya\"\n",
    "\n",
    "# Add your favorite color to the dictionary\n",
    "my_dict[\"favorite_color\"] = \"RED\"\n",
    "\n",
    "# Add a list, tuple or set to your dictionary\n",
    "my_dict[\"hobbies\"] = {\"reading\", \"walking\"}\n",
    "print(my_dict)\n",
    "\n",
    "# Print a list of the dictionary keys\n",
    "print(list(my_dict.keys()))\n",
    "\n",
    "# Print a list of the dictionary values\n",
    "print(list(my_dict.values()))\n",
    "\n",
    "# Copy your 1st dictionary into a 2nd dictionary\n",
    "second_dict = my_dict.copy()\n",
    "\n",
    "# Pop an item from the 2nd dictionary, and print the dictionary\n",
    "second_dict.(\"courses\")\n",
    "print(second_dict)\n",
    "\n",
    "# Remove all the elements from the 2nd dictionary and print the result\n",
    "second_dict.clear()\n",
    "print(second_dict)"
   ]
  }
 ],
 "metadata": {
  "kernelspec": {
   "display_name": "Python 3",
   "language": "python",
   "name": "python3"
  },
  "language_info": {
   "codemirror_mode": {
    "name": "ipython",
    "version": 3
   },
   "file_extension": ".py",
   "mimetype": "text/x-python",
   "name": "python",
   "nbconvert_exporter": "python",
   "pygments_lexer": "ipython3",
   "version": "3.12.3"
  }
 },
 "nbformat": 4,
 "nbformat_minor": 2
}
